{
  "nbformat": 4,
  "nbformat_minor": 0,
  "metadata": {
    "colab": {
      "provenance": [],
      "toc_visible": true,
      "authorship_tag": "ABX9TyO1xz4yDXOu5eDwk8Eesi3d",
      "include_colab_link": true
    },
    "kernelspec": {
      "name": "python3",
      "display_name": "Python 3"
    },
    "language_info": {
      "name": "python"
    }
  },
  "cells": [
    {
      "cell_type": "markdown",
      "metadata": {
        "id": "view-in-github",
        "colab_type": "text"
      },
      "source": [
        "<a href=\"https://colab.research.google.com/github/Facundo9c/MathData21/blob/main/MathData_Class1.ipynb\" target=\"_parent\"><img src=\"https://colab.research.google.com/assets/colab-badge.svg\" alt=\"Open In Colab\"/></a>"
      ]
    },
    {
      "cell_type": "markdown",
      "source": [
        "#Notes\n",
        "\n",
        "<img src=\"https://images.app.goo.gl/PAwmnfqgWM5sGFBH9\">"
      ],
      "metadata": {
        "id": "KbAAVc6Fdu4Z"
      }
    },
    {
      "cell_type": "markdown",
      "source": [
        "Example notes go here"
      ],
      "metadata": {
        "id": "bKGBmXT5du10"
      }
    },
    {
      "cell_type": "code",
      "execution_count": 6,
      "metadata": {
        "id": "VZ7S-2R5dbw0"
      },
      "outputs": [],
      "source": [
        "apples = 12"
      ]
    },
    {
      "cell_type": "code",
      "source": [
        "oranges = 8"
      ],
      "metadata": {
        "id": "4Kss3T6xduqJ"
      },
      "execution_count": 7,
      "outputs": []
    },
    {
      "cell_type": "code",
      "source": [
        "total = apples + oranges\n"
      ],
      "metadata": {
        "id": "YqgoaxoFduss"
      },
      "execution_count": 8,
      "outputs": []
    },
    {
      "cell_type": "code",
      "source": [
        "print(total)"
      ],
      "metadata": {
        "colab": {
          "base_uri": "https://localhost:8080/"
        },
        "id": "eiZh4FISfH2_",
        "outputId": "5c3542cd-8710-4a93-9521-f40a2d3d5a9a"
      },
      "execution_count": 9,
      "outputs": [
        {
          "output_type": "stream",
          "name": "stdout",
          "text": [
            "20\n"
          ]
        }
      ]
    },
    {
      "cell_type": "code",
      "source": [
        "import numpy as np\n",
        "import matplotlib.pyplot as plt"
      ],
      "metadata": {
        "id": "mR2GvcmzfNbe"
      },
      "execution_count": 11,
      "outputs": []
    },
    {
      "cell_type": "code",
      "source": [
        "A = np.random.random()"
      ],
      "metadata": {
        "id": "MLiC40oJfcVJ"
      },
      "execution_count": 27,
      "outputs": []
    },
    {
      "cell_type": "code",
      "source": [
        "A"
      ],
      "metadata": {
        "colab": {
          "base_uri": "https://localhost:8080/"
        },
        "id": "UOl7TZSvfpxy",
        "outputId": "06d48823-a5d7-4916-fdbf-9fc365f2924e"
      },
      "execution_count": 28,
      "outputs": [
        {
          "output_type": "execute_result",
          "data": {
            "text/plain": [
              "0.8748461362279841"
            ]
          },
          "metadata": {},
          "execution_count": 28
        }
      ]
    },
    {
      "cell_type": "code",
      "source": [
        "A = np.random.random((1,5))"
      ],
      "metadata": {
        "id": "mHcWoqW9fpz4"
      },
      "execution_count": 29,
      "outputs": []
    },
    {
      "cell_type": "code",
      "source": [
        "A"
      ],
      "metadata": {
        "colab": {
          "base_uri": "https://localhost:8080/"
        },
        "id": "XVOWh0Xvfp2L",
        "outputId": "d99d3d9e-7aa6-4561-db1d-e54c8d501612"
      },
      "execution_count": 30,
      "outputs": [
        {
          "output_type": "execute_result",
          "data": {
            "text/plain": [
              "array([[0.07423834, 0.25772655, 0.6271387 , 0.39871471, 0.66121137]])"
            ]
          },
          "metadata": {},
          "execution_count": 30
        }
      ]
    },
    {
      "cell_type": "code",
      "source": [
        "B = np.random.random((1,5))"
      ],
      "metadata": {
        "id": "SpkN-E3_gSpZ"
      },
      "execution_count": 31,
      "outputs": []
    },
    {
      "cell_type": "code",
      "source": [
        "A,B"
      ],
      "metadata": {
        "colab": {
          "base_uri": "https://localhost:8080/"
        },
        "id": "fhXmmAQqg3Zh",
        "outputId": "fee0ad89-6adb-4aea-d2c7-e547a47a10fb"
      },
      "execution_count": 32,
      "outputs": [
        {
          "output_type": "execute_result",
          "data": {
            "text/plain": [
              "(array([[0.07423834, 0.25772655, 0.6271387 , 0.39871471, 0.66121137]]),\n",
              " array([[0.74219222, 0.47986994, 0.71021789, 0.84102521, 0.41221397]]))"
            ]
          },
          "metadata": {},
          "execution_count": 32
        }
      ]
    },
    {
      "cell_type": "code",
      "source": [
        "A= A.T\n",
        "B= B.T"
      ],
      "metadata": {
        "id": "UTA9p-OjgSr9"
      },
      "execution_count": 33,
      "outputs": []
    },
    {
      "cell_type": "code",
      "source": [
        "plt.plot(A,B)\n"
      ],
      "metadata": {
        "colab": {
          "base_uri": "https://localhost:8080/",
          "height": 448
        },
        "id": "dqwy-LIpgSuk",
        "outputId": "6ddb9980-340c-475d-88de-9dd3c517bf4d"
      },
      "execution_count": 34,
      "outputs": [
        {
          "output_type": "execute_result",
          "data": {
            "text/plain": [
              "[<matplotlib.lines.Line2D at 0x7c0d3e2e4100>]"
            ]
          },
          "metadata": {},
          "execution_count": 34
        },
        {
          "output_type": "display_data",
          "data": {
            "text/plain": [
              "<Figure size 640x480 with 1 Axes>"
            ],
            "image/png": "[encoded data removed]"
          },
          "metadata": {}
        }
      ]
    },
    {
      "cell_type": "code",
      "source": [
        "plt.plot(A,B"
      ],
      "metadata": {
        "id": "TaiGQCmxgwdC"
      },
      "execution_count": null,
      "outputs": []
    },
    {
      "cell_type": "code",
      "source": [
        "X = np.random.random((100,1))\n",
        "Y = np.random.random((100,1))\n",
        "plt.plot(X,Y,'g')"
      ],
      "metadata": {
        "id": "6sTslbangwhG"
      },
      "execution_count": null,
      "outputs": []
    },
    {
      "cell_type": "code",
      "source": [],
      "metadata": {
        "id": "ZRd6gBCKgwqN"
      },
      "execution_count": null,
      "outputs": []
    },
    {
      "cell_type": "code",
      "source": [],
      "metadata": {
        "id": "9Qwlq26Igwup"
      },
      "execution_count": null,
      "outputs": []
    }
  ]
}